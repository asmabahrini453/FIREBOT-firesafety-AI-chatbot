{
  "cells": [
    {
      "cell_type": "markdown",
      "metadata": {
        "id": "view-in-github",
        "colab_type": "text"
      },
      "source": [
        "<a href=\"https://colab.research.google.com/github/asmabahrini453/HexSoftwares_AI_Chatbot_Development/blob/main/FIREBOT.ipynb\" target=\"_parent\"><img src=\"https://colab.research.google.com/assets/colab-badge.svg\" alt=\"Open In Colab\"/></a>"
      ]
    },
    {
      "cell_type": "code",
      "execution_count": null,
      "metadata": {
        "id": "L50boKoQZ5Tt"
      },
      "outputs": [],
      "source": [
        "#libraries\n",
        "import numpy as np\n",
        "import nltk #for handeling  NLP tasks\n",
        "import string #for string manipulation\n",
        "import random\n",
        "\n",
        "from sklearn.feature_extraction.text import TfidfVectorizer #convert text to numerical vectors  based on the Term Frequency-Inverse Document Frequency (TF-IDF) method.\n",
        "from sklearn.metrics.pairwise import cosine_similarity #Measures the similarity between two vectors."
      ]
    },
    {
      "cell_type": "code",
      "execution_count": null,
      "metadata": {
        "id": "jvj0rqZObRPk"
      },
      "outputs": [],
      "source": [
        "#Read the text\n",
        "txt = open('/content/sample_data/fire.txt','r',errors= 'ignore')\n",
        "raw_doc = txt.read()"
      ]
    },
    {
      "cell_type": "code",
      "execution_count": null,
      "metadata": {
        "colab": {
          "base_uri": "https://localhost:8080/",
          "height": 123
        },
        "id": "Tfj0RzZqbnz4",
        "outputId": "677e7855-74fb-4cff-b8d9-4e3a82e850b5"
      },
      "outputs": [
        {
          "data": {
            "application/vnd.google.colaboratory.intrinsic+json": {
              "type": "string"
            },
            "text/plain": [
              "'Fire in Your Workspace\\n\\nIf you have a safe evacuation route (minimal or no fire and/or smoke) from the area:\\n\\n- Stay calm and breathe deeply. Remember that panic can make it harder to think clearly.\\n- Evacuate the building: to the designated emergency assembly area at a steady pace; there is no need to rush.\\n- Pull the fire alarm and warn others nearby as you are leaving. Your alertness can help save others.\\n- Close doors and windows if time permits; this can help slow down the spread of fire and smoke.\\n- Move away from the fire and smoke whenever possible. Use the stairs, not the elevators.\\n- Feel the doors with the back of your hand** to check for heat; **do not open them if they are hot.\\n- Do not re-enter the building** until instructed to do so by emergency responders. Trust their expertise to guide you safely.\\n- Once outside, from a safe location, call the campus Police Department at 197\\n\\nif your evacuation route has excessive smoke and/or heat, or the exit door is warm or hot to the touch:\\n\\n- Stay calm and stay put. Remember, help is on the way.\\n- Remain in your work area and keep the door closed to prevent smoke from entering.\\n- Stuff the cracks around the door with towels, lab coats, or any available fabric to keep out as much smoke as possible.\\n- If there is no immediate danger from flames or smoke outside, open the nearest window to allow fresh air in.\\n- Signal for help by hanging a visible object (like a sheet or jacket) out of the window.\\n- Call the police department at 197 and let them know your exact location.\\n- Do not attempt to jump from upper floors; stay calm and wait for professional assistance.\\n\\nAbout Elevators\\n\\n- Remember: Elevators are not safe to use during a fire. Stay safe by using the stairs.\\n\\nFire Safety and Protection\\n\\nThe potential for loss of life or injury from a fire-related incident can be a serious risk on campus.  \\nUC Merced takes a proactive approach to recognize and evaluate fire safety risks and institute appropriate steps to remove or reduce them.\\n\\nOur Fire Safety Program includes:\\n- Code compliance\\n- Education of the campus community in fire safety practices\\n- Fire drills\\n- Enforcement to correct fire safety violations\\n\\nFacility Design and Construction\\n\\nWhat Constitutes a Fire Emergency?\\n\\nA fire emergency can be defined by any of the following situations:\\n- A building fire evacuation alarm is sounding\\n- An uncontrolled fire or imminent fire hazard occurs in any building or area of the campus\\n- Presence of smoke, or the odor of burning\\n- Spontaneous or abnormal heating of any material, uncontrolled release of combustible or toxic gas, or a flammable liquid spill\\n\\n Procedures\\n\\nCampus buildings shall be immediately and totally evacuated whenever the building evacuation alarm is sounding. Upon discovery of evidence that a fire emergency exists, an individual shall accomplish, or cause to be accomplished, the following actions:\\n- Activate the building fire alarm in buildings equipped with a manual fire alarm system\\n- If safe to do so, shut off all machinery and equipment in the area\\n- Leave the building at once\\n- Call  Police AT 197; \\n- All fires — even extinguished or found extinguished fires — as well as all fire alarms — \\nEvacuation Procedures\\n\\n- It is the responsibility of every person to immediately leave campus buildings whenever the fire alarm is activated or a fire emergency exists and proceed to their evacuation assembly area.\\n- All students, faculty, and staff are required to leave the building and remain outside until the emergency is over, and shall not restrict or impede the evacuation.\\n- Department heads are expected to review annually fire prevention and fire survival information with faculty and staff, or to schedule such a presentation with the campus Fire Marshal or the campus Emergency Director.\\n\\nInterruption of Fire Alarm\\n\\n- No person may shut off any fire protection or alarm system during a fire emergency incident without the permission of the fire department or police officer in charge.\\n- It shall be the responsibility of Fire or Police personnel to reset or cause the alarm to be reset.\\n\\nEmergency Hotlines\\n\\nIf you are feeling anxious, remember that there are professionals trained to help in emergencies.  \\nPolice: 197, \\nCivil Protection: 198, \\nSAMU: 190.\\n\\nAdditional Tips for Staying Calm:\\n\\n. Focus on your breathing: Take slow, deep breaths to help calm your nerves.\\n. Remember that you are not alone: Emergency responders are trained to handle these situations.\\n. Visualize safety: Picture yourself in a safe place and concentrate on reaching it step by step.\\n. Keep communication open: Stay connected with others around you, and listen to emergency personnel instructions.\\n\\nBy following these steps, you can remain calm and safe during a fire emergency, knowing that help is on the way and there are clear actions to protect yourself and others.'"
            ]
          },
          "execution_count": 134,
          "metadata": {},
          "output_type": "execute_result"
        }
      ],
      "source": [
        "raw_doc"
      ]
    },
    {
      "cell_type": "code",
      "execution_count": null,
      "metadata": {
        "colab": {
          "base_uri": "https://localhost:8080/"
        },
        "id": "FXB38ICgbtwe",
        "outputId": "89fc972d-1db3-4420-9feb-b58ae58b896e"
      },
      "outputs": [
        {
          "name": "stderr",
          "output_type": "stream",
          "text": [
            "[nltk_data] Downloading package punkt to /root/nltk_data...\n",
            "[nltk_data]   Package punkt is already up-to-date!\n",
            "[nltk_data] Downloading package wordnet to /root/nltk_data...\n",
            "[nltk_data]   Package wordnet is already up-to-date!\n",
            "[nltk_data] Downloading package omw-1.4 to /root/nltk_data...\n",
            "[nltk_data]   Package omw-1.4 is already up-to-date!\n"
          ]
        },
        {
          "data": {
            "text/plain": [
              "True"
            ]
          },
          "execution_count": 135,
          "metadata": {},
          "output_type": "execute_result"
        }
      ],
      "source": [
        "#Pre-processing data\n",
        "\n",
        "raw_doc= raw_doc.lower() #lower case conversion\n",
        "nltk.download('punkt') #Tokenization\n",
        "nltk.download('wordnet') #Downloads the WordNet database(only conatins english words)\n",
        "nltk.download('omw-1.4') #Downloads the Open Multilingual WordNet (OMW)\n"
      ]
    },
    {
      "cell_type": "code",
      "execution_count": null,
      "metadata": {
        "colab": {
          "base_uri": "https://localhost:8080/",
          "height": 123
        },
        "id": "-VxHoAUveS1H",
        "outputId": "c06b0e3d-5b34-40b5-d038-b32123746f5f"
      },
      "outputs": [
        {
          "data": {
            "application/vnd.google.colaboratory.intrinsic+json": {
              "type": "string"
            },
            "text/plain": [
              "'fire in your workspace if you have a safe evacuation route (minimal or no fire and/or smoke) from the area: - stay calm and breathe deeply. remember that panic can make it harder to think clearly.\\n- evacuate the building: to the designated emergency assembly area at a steady pace; there is no need to rush.\\n- pull the fire alarm and warn others nearby as you are leaving. your alertness can help save others.\\n- close doors and windows if time permits; this can help slow down the spread of fire and smoke.\\n- move away from the fire and smoke whenever possible. use the stairs, not the elevators.\\n- feel the doors with the back of your hand** to check for heat; **do not open them if they are hot.\\n- do not re-enter the building** until instructed to do so by emergency responders. trust their expertise to guide you safely.\\n- once outside, from a safe location, call the campus police department at 197 if your evacuation route has excessive smoke and/or heat, or the exit door is warm or hot to the touch: - stay calm and stay put. remember, help is on the way.\\n- remain in your work area and keep the door closed to prevent smoke from entering.\\n- stuff the cracks around the door with towels, lab coats, or any available fabric to keep out as much smoke as possible.\\n- if there is no immediate danger from flames or smoke outside, open the nearest window to allow fresh air in.\\n- signal for help by hanging a visible object (like a sheet or jacket) out of the window.\\n- call the police department at 197 and let them know your exact location.\\n- do not attempt to jump from upper floors; stay calm and wait for professional assistance. about elevators - remember: elevators are not safe to use during a fire. stay safe by using the stairs. fire safety and protection the potential for loss of life or injury from a fire-related incident can be a serious risk on campus.  \\nuc merced takes a proactive approach to recognize and evaluate fire safety risks and institute appropriate steps to remove or reduce them. our fire safety program includes:\\n- code compliance\\n- education of the campus community in fire safety practices\\n- fire drills\\n- enforcement to correct fire safety violations facility design and construction what constitutes a fire emergency? a fire emergency can be defined by any of the following situations:\\n- a building fire evacuation alarm is sounding\\n- an uncontrolled fire or imminent fire hazard occurs in any building or area of the campus\\n- presence of smoke, or the odor of burning\\n- spontaneous or abnormal heating of any material, uncontrolled release of combustible or toxic gas, or a flammable liquid spill  procedures campus buildings shall be immediately and totally evacuated whenever the building evacuation alarm is sounding. upon discovery of evidence that a fire emergency exists, an individual shall accomplish, or cause to be accomplished, the following actions:\\n- activate the building fire alarm in buildings equipped with a manual fire alarm system\\n- if safe to do so, shut off all machinery and equipment in the area\\n- leave the building at once\\n- call  police at 197; \\n- all fires — even extinguished or found extinguished fires — as well as all fire alarms — \\nevacuation procedures - it is the responsibility of every person to immediately leave campus buildings whenever the fire alarm is activated or a fire emergency exists and proceed to their evacuation assembly area.\\n- all students, faculty, and staff are required to leave the building and remain outside until the emergency is over, and shall not restrict or impede the evacuation.\\n- department heads are expected to review annually fire prevention and fire survival information with faculty and staff, or to schedule such a presentation with the campus fire marshal or the campus emergency director. interruption of fire alarm - no person may shut off any fire protection or alarm system during a fire emergency incident without the permission of the fire department or police officer in charge.\\n- it shall be the responsibility of fire or police personnel to reset or cause the alarm to be reset. emergency hotlines if you are feeling anxious, remember that there are professionals trained to help in emergencies.  \\npolice: 197, \\ncivil protection: 198, \\nsamu: 190. additional tips for staying calm: . focus on your breathing: take slow, deep breaths to help calm your nerves.\\n. remember that you are not alone: emergency responders are trained to handle these situations.\\n. visualize safety: picture yourself in a safe place and concentrate on reaching it step by step.\\n. keep communication open: stay connected with others around you, and listen to emergency personnel instructions. by following these steps, you can remain calm and safe during a fire emergency, knowing that help is on the way and there are clear actions to protect yourself and others.'"
            ]
          },
          "execution_count": 136,
          "metadata": {},
          "output_type": "execute_result"
        }
      ],
      "source": [
        "cleaned_doc = raw_doc.replace('\\n\\n', ' ').strip()\n",
        "\n",
        "cleaned_doc"
      ]
    },
    {
      "cell_type": "code",
      "execution_count": null,
      "metadata": {
        "colab": {
          "base_uri": "https://localhost:8080/"
        },
        "id": "_Wr8M6yZfO0v",
        "outputId": "a2bde446-fbe1-4d98-b4a4-0eb14ba488d4"
      },
      "outputs": [
        {
          "name": "stdout",
          "output_type": "stream",
          "text": [
            "['fire in your workspace if you have a safe evacuation route (minimal or no fire and/or smoke) from the area: - stay calm and breathe deeply.', 'remember that panic can make it harder to think clearly.']\n",
            "fire\n"
          ]
        }
      ],
      "source": [
        "sentence_tokens = nltk.sent_tokenize(cleaned_doc)\n",
        "word_tokens = nltk.word_tokenize(cleaned_doc)\n",
        "\n",
        "# Step 3: View the results\n",
        "print(sentence_tokens[:2])  # First two sentences\n",
        "print(word_tokens[0])"
      ]
    },
    {
      "cell_type": "code",
      "execution_count": null,
      "metadata": {
        "id": "7_X8xRxef-_m"
      },
      "outputs": [],
      "source": [
        "#lemmatization\n",
        "lemmer = nltk.stem.WordNetLemmatizer() #lemmatization using the WordNet database\n",
        "\n",
        "def LemTokens(tokens):\n",
        "  return[lemmer.lemmatize(token) for token in tokens]\n",
        "#removing  punctuation\n",
        "#Creates a translation dictionary that maps each punctuation character to None\n",
        "#effectively removing it using translate()\n",
        "remove_punc_dict = dict((ord(punct), None) for punct in string.punctuation)\n",
        "\n",
        "def LemNormalize(text):\n",
        "  return LemTokens(nltk.word_tokenize(text.lower().translate(remove_punc_dict)))"
      ]
    },
    {
      "cell_type": "markdown",
      "metadata": {
        "id": "Sgjit0Y0iiUn"
      },
      "source": [
        "Define Greeting functions"
      ]
    },
    {
      "cell_type": "code",
      "execution_count": null,
      "metadata": {
        "id": "cL4zGzhnibTo"
      },
      "outputs": [],
      "source": [
        "greet_inputs = ('hello', 'hi', 'help', 'emergency', 'fire', 'assist', 'urgent')\n",
        "greet_responses = (\n",
        "    \"Emergency services activated. How can I assist you?\",\n",
        "    \"I'm here to help. What is the nature of your emergency?\",\n",
        "    \"Hello, please provide details of your emergency.\",\n",
        "    \"This is the Fire Emergency Bot. How can I assist you?\",\n",
        "    \"Stay calm. I'm here to help. What's the situation?\"\n",
        ")\n",
        "\n",
        "def greet(sentence):\n",
        "    for word in sentence.split():\n",
        "        if word.lower() in greet_inputs:\n",
        "            return random.choice(greet_responses)\n",
        "    return None"
      ]
    },
    {
      "cell_type": "code",
      "execution_count": null,
      "metadata": {
        "id": "9ZqSP7NN3Kj6"
      },
      "outputs": [],
      "source": [
        "# Function to handle evacuation and other emergency instructions\n",
        "def emergency_response(user_input):\n",
        "    instructions = {\n",
        "        \"evacuate\": \"Evacuate the building: to the designated emergency assembly area at a steady pace; there is no need to rush.\",\n",
        "        \"fire\": \"If there's a fire, leave the building immediately and call emergency services.\",\n",
        "        \"help\": \"If you need help, contact emergency services right away and provide your location.\"\n",
        "        # Add more instructions as needed\n",
        "    }\n",
        "\n",
        "    for keyword in instructions:\n",
        "        if keyword in user_input:\n",
        "            return instructions[keyword]\n",
        "    return None"
      ]
    },
    {
      "cell_type": "markdown",
      "metadata": {
        "id": "q2kPUuGpjuy2"
      },
      "source": [
        "Response Generation"
      ]
    },
    {
      "cell_type": "code",
      "execution_count": null,
      "metadata": {
        "id": "K0KNXK2ykzjI"
      },
      "outputs": [],
      "source": [
        "\n",
        "def response(user_input):\n",
        "    bot_response = ''\n",
        "    TfidfVec = TfidfVectorizer(tokenizer=LemNormalize, stop_words='english')\n",
        "    tfidf = TfidfVec.fit_transform(sentence_tokens)\n",
        "\n",
        "    user_input_vec = TfidfVec.transform([user_input])\n",
        "    vals = cosine_similarity(user_input_vec, tfidf)\n",
        "\n",
        "    idx = vals.argsort()[0][-2]\n",
        "    flat = vals.flatten()\n",
        "    flat.sort()\n",
        "    req_tfidf = flat[-2]\n",
        "\n",
        "    if req_tfidf == 0:\n",
        "        return \"I am sorry. Unable to understand you!\"\n",
        "    else:\n",
        "        return sentence_tokens[idx]"
      ]
    },
    {
      "cell_type": "markdown",
      "metadata": {
        "id": "uB8J7bAcnVMI"
      },
      "source": [
        "Defining the chatFlow"
      ]
    },
    {
      "cell_type": "code",
      "execution_count": null,
      "metadata": {
        "colab": {
          "background_save": true,
          "base_uri": "https://localhost:8080/"
        },
        "id": "XsVTU6YDnXBa",
        "outputId": "057a3f1d-5f5a-4ab3-dc30-14dee334dcb8"
      },
      "outputs": [
        {
          "name": "stdout",
          "output_type": "stream",
          "text": [
            "Hello! I am FIREBOT.\n",
            "FIREBOT: This is the Fire Emergency Bot. How can I assist you?\n",
            "FIREBOT: Evacuate the building: to the designated emergency assembly area at a steady pace; there is no need to rush.\n",
            "FIREBOT: Hello, please provide details of your emergency.\n"
          ]
        },
        {
          "name": "stderr",
          "output_type": "stream",
          "text": [
            "/usr/local/lib/python3.10/dist-packages/sklearn/feature_extraction/text.py:525: UserWarning: The parameter 'token_pattern' will not be used since 'tokenizer' is not None'\n",
            "  warnings.warn(\n",
            "/usr/local/lib/python3.10/dist-packages/sklearn/feature_extraction/text.py:408: UserWarning: Your stop_words may be inconsistent with your preprocessing. Tokenizing the stop words generated tokens ['ha', 'le', 'u', 'wa'] not in stop_words.\n",
            "  warnings.warn(\n"
          ]
        },
        {
          "name": "stdout",
          "output_type": "stream",
          "text": [
            "FIREBOT: fire in your workspace if you have a safe evacuation route (minimal or no fire and/or smoke) from the area: - stay calm and breathe deeply.\n",
            "FIREBOT: Stay calm. I'm here to help. What's the situation?\n",
            "FIREBOT: Emergency services activated. How can I assist you?\n",
            "FIREBOT: by following these steps, you can remain calm and safe during a fire emergency, knowing that help is on the way and there are clear actions to protect yourself and others.\n",
            "FIREBOT: I am sorry. Unable to understand you!\n"
          ]
        }
      ],
      "source": [
        "flag = True\n",
        "print('Hello! I am FIREBOT.')\n",
        "while flag:\n",
        "    user_input = input().lower()\n",
        "    if user_input != 'bye':\n",
        "        if user_input in ['thank you', 'thanks']:\n",
        "            flag = False\n",
        "            print('FIREBOT: You are welcome.')\n",
        "        else:\n",
        "            greet_response = greet(user_input)\n",
        "            if greet_response:\n",
        "                print('FIREBOT: ' + greet_response)\n",
        "            else:\n",
        "                emergency_instruction = emergency_response(user_input)\n",
        "                if emergency_instruction:\n",
        "                    print('FIREBOT: ' + emergency_instruction)\n",
        "                else:\n",
        "                    sentence_tokens.append(user_input)\n",
        "                    word_tokens += nltk.word_tokenize(user_input)\n",
        "                    final_words = list(set(word_tokens))\n",
        "                    print('FIREBOT: ' + response(user_input))\n",
        "                    sentence_tokens.remove(user_input)\n",
        "    else:\n",
        "        flag = False\n",
        "        print('FIREBOT: Goodbye!')"
      ]
    }
  ],
  "metadata": {
    "colab": {
      "provenance": [],
      "authorship_tag": "ABX9TyOZEu2JbFoXsnDdJ7X/zEtl",
      "include_colab_link": true
    },
    "kernelspec": {
      "display_name": "Python 3",
      "name": "python3"
    },
    "language_info": {
      "name": "python"
    }
  },
  "nbformat": 4,
  "nbformat_minor": 0
}