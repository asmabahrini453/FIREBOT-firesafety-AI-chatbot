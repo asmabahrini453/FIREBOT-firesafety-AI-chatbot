{
  "cells": [
    {
      "cell_type": "markdown",
      "metadata": {
        "id": "view-in-github",
        "colab_type": "text"
      },
      "source": [
        "<a href=\"https://colab.research.google.com/github/asmabahrini453/HexSoftwares_AI_Chatbot_Development/blob/main/FIREBOT.ipynb\" target=\"_parent\"><img src=\"https://colab.research.google.com/assets/colab-badge.svg\" alt=\"Open In Colab\"/></a>"
      ]
    },
    {
      "cell_type": "code",
      "execution_count": 49,
      "metadata": {
        "id": "L50boKoQZ5Tt"
      },
      "outputs": [],
      "source": [
        "#libraries\n",
        "import numpy as np\n",
        "import nltk #for handeling  NLP tasks\n",
        "import string #for string manipulation\n",
        "import random\n",
        "\n",
        "from sklearn.feature_extraction.text import TfidfVectorizer #convert text to numerical vectors  based on the Term Frequency-Inverse Document Frequency (TF-IDF) method.\n",
        "from sklearn.metrics.pairwise import cosine_similarity #Measures the similarity between two vectors."
      ]
    },
    {
      "cell_type": "code",
      "execution_count": 50,
      "metadata": {
        "id": "jvj0rqZObRPk"
      },
      "outputs": [],
      "source": [
        "#Read the text\n",
        "txt = open('/content/sample_data/fire.txt','r',errors= 'ignore')\n",
        "raw_doc = txt.read()"
      ]
    },
    {
      "cell_type": "code",
      "execution_count": 51,
      "metadata": {
        "colab": {
          "base_uri": "https://localhost:8080/",
          "height": 123
        },
        "id": "Tfj0RzZqbnz4",
        "outputId": "f5b392b9-f1f3-4de0-ef07-caddc018c295"
      },
      "outputs": [
        {
          "output_type": "execute_result",
          "data": {
            "text/plain": [
              "'Fire in Your Workspace\\n\\nIf you have a safe evacuation route (minimal or no fire and/or smoke) from the area:\\n\\n- Stay calm and breathe deeply. Remember that panic can make it harder to think clearly.\\n- Evacuate the building: to the designated emergency assembly area at a steady pace; there is no need to rush.\\n- Pull the fire alarm and warn others nearby as you are leaving. Your alertness can help save others.\\n- Close doors and windows if time permits; this can help slow down the spread of fire and smoke.\\n- Move away from the fire and smoke whenever possible. Use the stairs, not the elevators.\\n- Feel the doors with the back of your hand** to check for heat; **do not open them if they are hot.\\n- Do not re-enter the building** until instructed to do so by emergency responders. Trust their expertise to guide you safely.\\n- Once outside, from a safe location, call the campus Police Department at 197\\n\\nif your evacuation route has excessive smoke and/or heat, or the exit door is warm or hot to the touch:\\n\\n- Stay calm and stay put. Remember, help is on the way.\\n- Remain in your work area and keep the door closed to prevent smoke from entering.\\n- Stuff the cracks around the door with towels, lab coats, or any available fabric to keep out as much smoke as possible.\\n- If there is no immediate danger from flames or smoke outside, open the nearest window to allow fresh air in.\\n- Signal for help by hanging a visible object (like a sheet or jacket) out of the window.\\n- Call the police department at 197 and let them know your exact location.\\n- Do not attempt to jump from upper floors; stay calm and wait for professional assistance.\\n\\nAbout Elevators\\n\\n- Remember: Elevators are not safe to use during a fire. Stay safe by using the stairs.\\n\\nFire Safety and Protection\\n\\nThe potential for loss of life or injury from a fire-related incident can be a serious risk on campus.  \\nUC Merced takes a proactive approach to recognize and evaluate fire safety risks and institute appropriate steps to remove or reduce them.\\n\\nOur Fire Safety Program includes:\\n- Code compliance\\n- Education of the campus community in fire safety practices\\n- Fire drills\\n- Enforcement to correct fire safety violations\\n\\nFacility Design and Construction\\n\\nWhat Constitutes a Fire Emergency?\\n\\nA fire emergency can be defined by any of the following situations:\\n- A building fire evacuation alarm is sounding\\n- An uncontrolled fire or imminent fire hazard occurs in any building or area of the campus\\n- Presence of smoke, or the odor of burning\\n- Spontaneous or abnormal heating of any material, uncontrolled release of combustible or toxic gas, or a flammable liquid spill\\n\\n Procedures\\n\\nCampus buildings shall be immediately and totally evacuated whenever the building evacuation alarm is sounding. Upon discovery of evidence that a fire emergency exists, an individual shall accomplish, or cause to be accomplished, the following actions:\\n- Activate the building fire alarm in buildings equipped with a manual fire alarm system\\n- If safe to do so, shut off all machinery and equipment in the area\\n- Leave the building at once\\n- Call  Police AT 197; \\n- All fires — even extinguished or found extinguished fires — as well as all fire alarms — \\nEvacuation Procedures\\n\\n- It is the responsibility of every person to immediately leave campus buildings whenever the fire alarm is activated or a fire emergency exists and proceed to their evacuation assembly area.\\n- All students, faculty, and staff are required to leave the building and remain outside until the emergency is over, and shall not restrict or impede the evacuation.\\n- Department heads are expected to review annually fire prevention and fire survival information with faculty and staff, or to schedule such a presentation with the campus Fire Marshal or the campus Emergency Director.\\n\\nInterruption of Fire Alarm\\n\\n- No person may shut off any fire protection or alarm system during a fire emergency incident without the permission of the fire department or police officer in charge.\\n- It shall be the responsibility of Fire or Police personnel to reset or cause the alarm to be reset.\\n\\nEmergency Hotlines\\n\\nIf you are feeling anxious, remember that there are professionals trained to help in emergencies.  \\nPolice: 197, \\nCivil Protection: 198, \\nSAMU: 190.\\n\\nAdditional Tips for Staying Calm:\\n\\n. Focus on your breathing: Take slow, deep breaths to help calm your nerves.\\n. Remember that you are not alone: Emergency responders are trained to handle these situations.\\n. Visualize safety: Picture yourself in a safe place and concentrate on reaching it step by step.\\n. Keep communication open: Stay connected with others around you, and listen to emergency personnel instructions.\\n\\nBy following these steps, you can remain calm and safe during a fire emergency, knowing that help is on the way and there are clear actions to protect yourself and others.'"
            ],
            "application/vnd.google.colaboratory.intrinsic+json": {
              "type": "string"
            }
          },
          "metadata": {},
          "execution_count": 51
        }
      ],
      "source": [
        "raw_doc"
      ]
    },
    {
      "cell_type": "code",
      "execution_count": 52,
      "metadata": {
        "colab": {
          "base_uri": "https://localhost:8080/"
        },
        "id": "FXB38ICgbtwe",
        "outputId": "40b86c1b-454b-4e55-daf2-e1e1b3388a90"
      },
      "outputs": [
        {
          "output_type": "stream",
          "name": "stderr",
          "text": [
            "[nltk_data] Downloading package punkt to /root/nltk_data...\n",
            "[nltk_data]   Package punkt is already up-to-date!\n",
            "[nltk_data] Downloading package wordnet to /root/nltk_data...\n",
            "[nltk_data]   Package wordnet is already up-to-date!\n",
            "[nltk_data] Downloading package omw-1.4 to /root/nltk_data...\n",
            "[nltk_data]   Package omw-1.4 is already up-to-date!\n"
          ]
        },
        {
          "output_type": "execute_result",
          "data": {
            "text/plain": [
              "True"
            ]
          },
          "metadata": {},
          "execution_count": 52
        }
      ],
      "source": [
        "#Pre-processing data\n",
        "\n",
        "raw_doc= raw_doc.lower() #lower case conversion\n",
        "nltk.download('punkt') #Tokenization\n",
        "nltk.download('wordnet') #Downloads the WordNet database(only conatins english words)\n",
        "nltk.download('omw-1.4') #Downloads the Open Multilingual WordNet (OMW)\n"
      ]
    },
    {
      "cell_type": "code",
      "execution_count": 53,
      "metadata": {
        "colab": {
          "base_uri": "https://localhost:8080/",
          "height": 123
        },
        "id": "-VxHoAUveS1H",
        "outputId": "38f0d67a-8807-4ea6-93af-e9861fea6432"
      },
      "outputs": [
        {
          "output_type": "execute_result",
          "data": {
            "text/plain": [
              "'fire in your workspace if you have a safe evacuation route (minimal or no fire and/or smoke) from the area: - stay calm and breathe deeply. remember that panic can make it harder to think clearly.\\n- evacuate the building: to the designated emergency assembly area at a steady pace; there is no need to rush.\\n- pull the fire alarm and warn others nearby as you are leaving. your alertness can help save others.\\n- close doors and windows if time permits; this can help slow down the spread of fire and smoke.\\n- move away from the fire and smoke whenever possible. use the stairs, not the elevators.\\n- feel the doors with the back of your hand** to check for heat; **do not open them if they are hot.\\n- do not re-enter the building** until instructed to do so by emergency responders. trust their expertise to guide you safely.\\n- once outside, from a safe location, call the campus police department at 197 if your evacuation route has excessive smoke and/or heat, or the exit door is warm or hot to the touch: - stay calm and stay put. remember, help is on the way.\\n- remain in your work area and keep the door closed to prevent smoke from entering.\\n- stuff the cracks around the door with towels, lab coats, or any available fabric to keep out as much smoke as possible.\\n- if there is no immediate danger from flames or smoke outside, open the nearest window to allow fresh air in.\\n- signal for help by hanging a visible object (like a sheet or jacket) out of the window.\\n- call the police department at 197 and let them know your exact location.\\n- do not attempt to jump from upper floors; stay calm and wait for professional assistance. about elevators - remember: elevators are not safe to use during a fire. stay safe by using the stairs. fire safety and protection the potential for loss of life or injury from a fire-related incident can be a serious risk on campus.  \\nuc merced takes a proactive approach to recognize and evaluate fire safety risks and institute appropriate steps to remove or reduce them. our fire safety program includes:\\n- code compliance\\n- education of the campus community in fire safety practices\\n- fire drills\\n- enforcement to correct fire safety violations facility design and construction what constitutes a fire emergency? a fire emergency can be defined by any of the following situations:\\n- a building fire evacuation alarm is sounding\\n- an uncontrolled fire or imminent fire hazard occurs in any building or area of the campus\\n- presence of smoke, or the odor of burning\\n- spontaneous or abnormal heating of any material, uncontrolled release of combustible or toxic gas, or a flammable liquid spill  procedures campus buildings shall be immediately and totally evacuated whenever the building evacuation alarm is sounding. upon discovery of evidence that a fire emergency exists, an individual shall accomplish, or cause to be accomplished, the following actions:\\n- activate the building fire alarm in buildings equipped with a manual fire alarm system\\n- if safe to do so, shut off all machinery and equipment in the area\\n- leave the building at once\\n- call  police at 197; \\n- all fires — even extinguished or found extinguished fires — as well as all fire alarms — \\nevacuation procedures - it is the responsibility of every person to immediately leave campus buildings whenever the fire alarm is activated or a fire emergency exists and proceed to their evacuation assembly area.\\n- all students, faculty, and staff are required to leave the building and remain outside until the emergency is over, and shall not restrict or impede the evacuation.\\n- department heads are expected to review annually fire prevention and fire survival information with faculty and staff, or to schedule such a presentation with the campus fire marshal or the campus emergency director. interruption of fire alarm - no person may shut off any fire protection or alarm system during a fire emergency incident without the permission of the fire department or police officer in charge.\\n- it shall be the responsibility of fire or police personnel to reset or cause the alarm to be reset. emergency hotlines if you are feeling anxious, remember that there are professionals trained to help in emergencies.  \\npolice: 197, \\ncivil protection: 198, \\nsamu: 190. additional tips for staying calm: . focus on your breathing: take slow, deep breaths to help calm your nerves.\\n. remember that you are not alone: emergency responders are trained to handle these situations.\\n. visualize safety: picture yourself in a safe place and concentrate on reaching it step by step.\\n. keep communication open: stay connected with others around you, and listen to emergency personnel instructions. by following these steps, you can remain calm and safe during a fire emergency, knowing that help is on the way and there are clear actions to protect yourself and others.'"
            ],
            "application/vnd.google.colaboratory.intrinsic+json": {
              "type": "string"
            }
          },
          "metadata": {},
          "execution_count": 53
        }
      ],
      "source": [
        "cleaned_doc = raw_doc.replace('\\n\\n', ' ').strip()\n",
        "\n",
        "cleaned_doc"
      ]
    },
    {
      "cell_type": "code",
      "execution_count": 54,
      "metadata": {
        "colab": {
          "base_uri": "https://localhost:8080/"
        },
        "id": "_Wr8M6yZfO0v",
        "outputId": "207d9dfe-f974-48f8-85a5-6a588f692986"
      },
      "outputs": [
        {
          "output_type": "stream",
          "name": "stdout",
          "text": [
            "['fire in your workspace if you have a safe evacuation route (minimal or no fire and/or smoke) from the area: - stay calm and breathe deeply.', 'remember that panic can make it harder to think clearly.']\n",
            "fire\n"
          ]
        }
      ],
      "source": [
        "sentence_tokens = nltk.sent_tokenize(cleaned_doc)\n",
        "word_tokens = nltk.word_tokenize(cleaned_doc)\n",
        "\n",
        "print(sentence_tokens[:2])\n",
        "print(word_tokens[0])"
      ]
    },
    {
      "cell_type": "code",
      "execution_count": 55,
      "metadata": {
        "id": "7_X8xRxef-_m"
      },
      "outputs": [],
      "source": [
        "#lemmatization\n",
        "lemmer = nltk.stem.WordNetLemmatizer() #lemmatization using the WordNet database\n",
        "\n",
        "def LemTokens(tokens):\n",
        "  return[lemmer.lemmatize(token) for token in tokens]\n",
        "#removing  punctuation\n",
        "#Creates a translation dictionary that maps each punctuation character to None\n",
        "#effectively removing it using translate()\n",
        "remove_punc_dict = dict((ord(punct), None) for punct in string.punctuation)\n",
        "\n",
        "def LemNormalize(text):\n",
        "  return LemTokens(nltk.word_tokenize(text.lower().translate(remove_punc_dict)))"
      ]
    },
    {
      "cell_type": "markdown",
      "metadata": {
        "id": "Sgjit0Y0iiUn"
      },
      "source": [
        "Define Greeting functions"
      ]
    },
    {
      "cell_type": "code",
      "execution_count": 56,
      "metadata": {
        "id": "cL4zGzhnibTo"
      },
      "outputs": [],
      "source": [
        "greet_inputs = ('hello', 'hi', 'help', 'emergency', 'fire', 'assist', 'urgent')\n",
        "greet_responses = (\n",
        "    \"Emergency services activated. How can I assist you?\",\n",
        "    \"I'm here to help. What is the nature of your emergency?\",\n",
        "    \"Hello, please provide details of your emergency.\",\n",
        "    \"This is the Fire Emergency Bot. How can I assist you?\",\n",
        "    \"Stay calm. I'm here to help. What's the situation?\"\n",
        ")\n",
        "\n",
        "def greet(sentence):\n",
        "    for word in sentence.split():\n",
        "        if word.lower() in greet_inputs:\n",
        "            return random.choice(greet_responses)\n",
        "    return None"
      ]
    },
    {
      "cell_type": "markdown",
      "metadata": {
        "id": "q2kPUuGpjuy2"
      },
      "source": [
        "Response Generation"
      ]
    },
    {
      "cell_type": "code",
      "execution_count": 57,
      "metadata": {
        "id": "K0KNXK2ykzjI"
      },
      "outputs": [],
      "source": [
        "def response(user_input):\n",
        "    bot_response = ''\n",
        "    TfidfVec = TfidfVectorizer(tokenizer=LemNormalize, stop_words='english')\n",
        " #tfidf is a matrix where each row represents a sentence and each column represents a term's TF-IDF score.\n",
        "    tfidf = TfidfVec.fit_transform(sentence_tokens + [user_input])\n",
        "\n",
        "    vals = cosine_similarity(tfidf[-1], tfidf[:-1])\n",
        "    #This index corresponds to the most similar sentence to the user_input\n",
        "    idx = vals.argsort()[0][-1]\n",
        "    flat = vals.flatten()\n",
        "    flat.sort()\n",
        "    req_tfidf = flat[-1]\n",
        "\n",
        "    if req_tfidf == 0:\n",
        "        bot_response = \"I am sorry. Unable to understand you!\"\n",
        "    else:\n",
        "        bot_response = sentence_tokens[idx]\n",
        "\n",
        "    return bot_response"
      ]
    },
    {
      "cell_type": "markdown",
      "metadata": {
        "id": "uB8J7bAcnVMI"
      },
      "source": [
        "Defining the chatFlow"
      ]
    },
    {
      "cell_type": "code",
      "execution_count": 69,
      "metadata": {
        "colab": {
          "base_uri": "https://localhost:8080/"
        },
        "id": "XsVTU6YDnXBa",
        "outputId": "bc0206be-0d40-424f-b67f-c5e508967ba6"
      },
      "outputs": [
        {
          "output_type": "stream",
          "name": "stdout",
          "text": [
            "Hello! I am FIREBOT. How can I assist you?\n",
            "help\n",
            "FIREBOT: Emergency services activated. How can I assist you?\n",
            "can you give me the police number?\n",
            "FIREBOT: - call the police department at 197 and let them know your exact location.\n",
            "how can i evacuate?\n",
            "FIREBOT: - evacuate the building: to the designated emergency assembly area at a steady pace; there is no need to rush.\n",
            "what if i can't find a way out of the building?\n",
            "FIREBOT: remember, help is on the way.\n",
            "what if there's excessive smoke and heat  in my evacuation route?\n",
            "FIREBOT: - once outside, from a safe location, call the campus police department at 197 if your evacuation route has excessive smoke and/or heat, or the exit door is warm or hot to the touch: - stay calm and stay put.\n",
            "are elevators safe to use during a fire?\n",
            "FIREBOT: about elevators - remember: elevators are not safe to use during a fire.\n",
            "how can i focus on my breathing\n",
            "FIREBOT: focus on your breathing: take slow, deep breaths to help calm your nerves.\n",
            "what should i do to keep calm and safe in an emergency?\n",
            "FIREBOT: by following these steps, you can remain calm and safe during a fire emergency, knowing that help is on the way and there are clear actions to protect yourself and others.\n",
            "thank you\n",
            "FIREBOT: You are welcome. Do you need more help?\n",
            "can you give me the civil protection and police number once again?\n",
            "FIREBOT: police: 197, \n",
            "civil protection: 198, \n",
            "samu: 190. additional tips for staying calm: .\n",
            "thank you\n",
            "FIREBOT: You are welcome. Do you need more help?\n",
            "bye\n",
            "FIREBOT: Goodbye!\n"
          ]
        }
      ],
      "source": [
        "flag = True\n",
        "print('Hello! I am FIREBOT. How can I assist you?')\n",
        "while flag:\n",
        "    user_input = input().lower()\n",
        "    if user_input != 'bye':\n",
        "        if user_input in ('thank you', 'thanks'):\n",
        "            flag = True\n",
        "            print('FIREBOT: You are welcome. Do you need more help?')\n",
        "        else:\n",
        "            if greet(user_input) is not None:\n",
        "                print('FIREBOT: ' + greet(user_input))\n",
        "            else:\n",
        "                print('FIREBOT: ', end='')\n",
        "                print(response(user_input))\n",
        "    else:\n",
        "        flag = False\n",
        "        print('FIREBOT: Goodbye!')\n"
      ]
    }
  ],
  "metadata": {
    "colab": {
      "provenance": [],
      "authorship_tag": "ABX9TyOGeaRCJ3lr0Yt/HNzjhd3f",
      "include_colab_link": true
    },
    "kernelspec": {
      "display_name": "Python 3",
      "name": "python3"
    },
    "language_info": {
      "name": "python"
    }
  },
  "nbformat": 4,
  "nbformat_minor": 0
}